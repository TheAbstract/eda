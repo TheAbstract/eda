{
 "cells": [
  {
   "cell_type": "markdown",
   "id": "2ee6a9a8-11a1-4948-a0e3-baf861f72b82",
   "metadata": {},
   "source": [
    "# example"
   ]
  },
  {
   "cell_type": "code",
   "execution_count": 1,
   "id": "e2331b5d-a6bb-44a8-9a2c-d67d5e6eb43e",
   "metadata": {},
   "outputs": [],
   "source": [
    "import pandas as pd"
   ]
  },
  {
   "cell_type": "code",
   "execution_count": 2,
   "id": "c40286f0-0c92-476d-958e-77a5faa1214e",
   "metadata": {},
   "outputs": [
    {
     "name": "stdout",
     "output_type": "stream",
     "text": [
      "<class 'pandas.core.frame.DataFrame'>\n",
      "RangeIndex: 20000000 entries, 0 to 19999999\n",
      "Data columns (total 3 columns):\n",
      " #   Column         Dtype  \n",
      "---  ------         -----  \n",
      " 0   IntegerColumn  int64  \n",
      " 1   FloatColumn    float64\n",
      " 2   StringColumn   object \n",
      "dtypes: float64(1), int64(1), object(1)\n",
      "memory usage: 1.4 GB\n"
     ]
    }
   ],
   "source": [
    "df = pd.read_csv('large_dataframe.csv')\n",
    "df.info(memory_usage='deep')"
   ]
  },
  {
   "cell_type": "code",
   "execution_count": 3,
   "id": "30680efe-aca5-4d47-be4a-90c04af0b991",
   "metadata": {},
   "outputs": [],
   "source": [
    "from lightdf import *"
   ]
  },
  {
   "cell_type": "code",
   "execution_count": 4,
   "id": "f2db8e3b-243e-4018-a94b-a4ec0fd896e3",
   "metadata": {},
   "outputs": [
    {
     "data": {
      "text/plain": [
       "{'IntegerColumn': 'int8', 'FloatColumn': 'float32', 'StringColumn': 'category'}"
      ]
     },
     "execution_count": 4,
     "metadata": {},
     "output_type": "execute_result"
    }
   ],
   "source": [
    "suggestions = suggest_data_type_conversions(df)\n",
    "suggestions"
   ]
  },
  {
   "cell_type": "code",
   "execution_count": 5,
   "id": "71571e81-7306-4466-b936-dbe9cc929891",
   "metadata": {},
   "outputs": [
    {
     "name": "stdout",
     "output_type": "stream",
     "text": [
      "Estimated memory savings: 1.27 GB\n"
     ]
    }
   ],
   "source": [
    "memory_savings(df, suggestions)"
   ]
  },
  {
   "cell_type": "code",
   "execution_count": 6,
   "id": "5437a05b-e59d-47ca-a839-f79ba6d2224d",
   "metadata": {},
   "outputs": [
    {
     "name": "stdout",
     "output_type": "stream",
     "text": [
      "<class 'pandas.core.frame.DataFrame'>\n",
      "RangeIndex: 20000000 entries, 0 to 19999999\n",
      "Data columns (total 3 columns):\n",
      " #   Column         Dtype   \n",
      "---  ------         -----   \n",
      " 0   IntegerColumn  int8    \n",
      " 1   FloatColumn    float32 \n",
      " 2   StringColumn   category\n",
      "dtypes: category(1), float32(1), int8(1)\n",
      "memory usage: 114.4 MB\n"
     ]
    }
   ],
   "source": [
    "optimised_df = apply_suggestions(df, suggestions)\n",
    "optimised_df.info(memory_usage='deep')"
   ]
  }
 ],
 "metadata": {
  "kernelspec": {
   "display_name": "Python 3 (ipykernel)",
   "language": "python",
   "name": "python3"
  },
  "language_info": {
   "codemirror_mode": {
    "name": "ipython",
    "version": 3
   },
   "file_extension": ".py",
   "mimetype": "text/x-python",
   "name": "python",
   "nbconvert_exporter": "python",
   "pygments_lexer": "ipython3",
   "version": "3.10.13"
  }
 },
 "nbformat": 4,
 "nbformat_minor": 5
}
